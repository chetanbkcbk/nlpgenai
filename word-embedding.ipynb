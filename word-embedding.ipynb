{
 "cells": [
  {
   "cell_type": "code",
   "execution_count": 2,
   "metadata": {},
   "outputs": [],
   "source": [
    "#1st pip install gensim\n",
    "\n",
    "from gensim.models import Word2Vec,KeyedVectors\n",
    "import gensim.downloader as api"
   ]
  },
  {
   "cell_type": "code",
   "execution_count": 3,
   "metadata": {},
   "outputs": [
    {
     "data": {
      "text/plain": [
       "'\\nfirst thing--> gensim--> pip install gensim\\n\\nsecond thing--> model size(1.6gb) it takes time \\n\\npretrain model from the google(google-news)\\n\\nif even after \\npip install gensim  and still facing issue in import\\n\\nthis would be because of the mismatch version of the numpy\\n\\nsolution:: \\ncreate a new virtual env\\npip install gensim\\npip install numpy\\n\\n'"
      ]
     },
     "execution_count": 3,
     "metadata": {},
     "output_type": "execute_result"
    }
   ],
   "source": [
    "'''\n",
    "first thing--> gensim--> pip install gensim\n",
    " \n",
    "second thing--> model size(1.6gb) it takes time \n",
    "\n",
    "pretrain model from the google(google-news)\n",
    "\n",
    "if even after \n",
    "pip install gensim  and still facing issue in import\n",
    "\n",
    "this would be because of the mismatch version of the numpy\n",
    "\n",
    "solution:: \n",
    "create a new virtual env\n",
    "pip install gensim\n",
    "pip install numpy\n",
    "\n",
    "'''"
   ]
  },
  {
   "cell_type": "code",
   "execution_count": 4,
   "metadata": {},
   "outputs": [
    {
     "name": "stdout",
     "output_type": "stream",
     "text": [
      "[==================================================] 100.0% 1662.8/1662.8MB downloaded\n"
     ]
    }
   ],
   "source": [
    "model = api.load ('word2vec-google-news-300') ##this takes a lot of time  and after executing this cell \n"
   ]
  },
  {
   "cell_type": "code",
   "execution_count": 6,
   "metadata": {},
   "outputs": [
    {
     "data": {
      "text/plain": [
       "array([ 1.59179688e-01,  1.07910156e-01,  3.71093750e-02,  1.61132812e-01,\n",
       "        3.02734375e-01, -3.35937500e-01, -3.83300781e-02, -1.32751465e-03,\n",
       "       -8.69140625e-02,  2.25585938e-01,  2.23388672e-02,  1.35742188e-01,\n",
       "       -1.04003906e-01,  1.73828125e-01,  5.46875000e-02,  1.13769531e-01,\n",
       "       -1.53320312e-01,  2.29492188e-01,  1.13769531e-01,  1.61132812e-02,\n",
       "       -1.46484375e-01,  5.07812500e-01, -1.08886719e-01, -1.59179688e-01,\n",
       "       -9.37500000e-02, -6.64062500e-02,  1.90429688e-01,  2.49023438e-01,\n",
       "       -1.08398438e-01,  2.00195312e-01, -2.19726562e-01,  8.83789062e-02,\n",
       "        4.98046875e-02,  4.27246094e-02, -3.02734375e-01, -1.64062500e-01,\n",
       "       -9.86328125e-02, -2.61718750e-01,  1.49414062e-01,  2.12890625e-01,\n",
       "        2.38281250e-01, -1.50390625e-01,  1.82617188e-01,  1.18408203e-02,\n",
       "        1.85546875e-02, -1.41601562e-01, -1.41601562e-01,  3.14941406e-02,\n",
       "       -2.50000000e-01,  2.55859375e-01,  2.53906250e-01,  3.69140625e-01,\n",
       "        4.43359375e-01,  2.81250000e-01, -2.35595703e-02, -9.08203125e-02,\n",
       "       -3.41796875e-02, -1.10351562e-01, -2.64892578e-02,  7.61718750e-02,\n",
       "       -3.00781250e-01, -1.78710938e-01, -3.43750000e-01, -2.69531250e-01,\n",
       "        1.06933594e-01,  1.23535156e-01, -2.40234375e-01, -9.66796875e-02,\n",
       "        4.15039062e-02,  1.25000000e-01,  3.16406250e-01,  3.39355469e-02,\n",
       "       -4.33349609e-03,  1.81640625e-01, -5.40161133e-03,  3.00781250e-01,\n",
       "        1.25000000e-01, -3.30078125e-01, -3.08837891e-02,  1.95312500e-01,\n",
       "        7.66601562e-02,  3.39355469e-02, -9.61914062e-02, -2.09960938e-01,\n",
       "       -1.91406250e-01,  1.55273438e-01, -3.41796875e-02, -9.88769531e-03,\n",
       "        1.07910156e-01,  2.79296875e-01, -2.83203125e-01, -3.63281250e-01,\n",
       "       -7.32421875e-02, -1.31835938e-01, -2.75390625e-01,  3.49609375e-01,\n",
       "        2.83203125e-01, -4.61425781e-02,  2.85644531e-02, -3.28125000e-01,\n",
       "       -4.29687500e-02, -1.23046875e-01,  1.01928711e-02, -2.33154297e-02,\n",
       "       -9.71679688e-02, -1.53320312e-01, -2.96630859e-02, -9.91210938e-02,\n",
       "       -3.29589844e-02, -2.92968750e-01, -2.78320312e-02, -2.91748047e-02,\n",
       "       -6.88476562e-02, -1.62109375e-01,  5.39062500e-01, -7.51953125e-02,\n",
       "        3.10546875e-01, -2.55859375e-01, -3.24707031e-02,  2.16796875e-01,\n",
       "       -4.00390625e-01, -1.32812500e-01,  1.57226562e-01, -1.63085938e-01,\n",
       "        5.00488281e-02, -1.25976562e-01, -6.80541992e-03, -5.34667969e-02,\n",
       "       -2.67333984e-02,  7.61718750e-02, -1.77734375e-01, -8.05664062e-02,\n",
       "        2.37304688e-01,  1.10351562e-01, -1.64062500e-01, -7.66601562e-02,\n",
       "       -3.63769531e-02, -5.41992188e-02, -1.30859375e-01,  4.65393066e-04,\n",
       "        5.71289062e-02, -6.39648438e-02,  1.30859375e-01, -2.30468750e-01,\n",
       "        1.49414062e-01,  2.59765625e-01, -4.63867188e-02, -7.81250000e-03,\n",
       "        2.56347656e-02, -6.93359375e-02,  9.08203125e-02,  3.08837891e-02,\n",
       "       -1.98364258e-03,  1.90429688e-01, -2.18750000e-01, -4.32128906e-02,\n",
       "        2.61718750e-01, -4.14062500e-01,  6.44531250e-02,  3.80859375e-01,\n",
       "       -3.20312500e-01, -4.29687500e-02,  3.73046875e-01,  7.03125000e-02,\n",
       "        2.61718750e-01,  1.14746094e-01, -3.39355469e-02,  1.05957031e-01,\n",
       "        3.67736816e-03,  1.00708008e-02, -2.55859375e-01,  3.63281250e-01,\n",
       "       -1.18652344e-01,  2.09960938e-02, -3.88671875e-01,  2.20703125e-01,\n",
       "       -1.53320312e-01, -7.08007812e-02, -2.91015625e-01, -2.27539062e-01,\n",
       "       -3.18359375e-01, -3.43750000e-01, -1.13281250e-01,  8.91113281e-03,\n",
       "       -1.63085938e-01, -5.78613281e-02,  2.68554688e-02, -1.10351562e-01,\n",
       "       -1.16210938e-01,  1.40625000e-01, -2.94921875e-01,  3.94531250e-01,\n",
       "        4.32128906e-02,  1.04980469e-01, -2.15820312e-01,  5.31250000e-01,\n",
       "       -2.35351562e-01,  9.66796875e-02,  8.49609375e-02,  1.48437500e-01,\n",
       "        1.36718750e-01,  1.51367188e-01, -3.61328125e-01, -3.33984375e-01,\n",
       "        9.03320312e-02,  5.02929688e-02, -1.87500000e-01, -3.17382812e-02,\n",
       "       -6.44531250e-02, -1.97265625e-01, -1.93359375e-01, -2.35595703e-02,\n",
       "       -5.32226562e-02,  2.29492188e-01,  9.42382812e-02, -1.96289062e-01,\n",
       "       -1.29394531e-02,  4.22363281e-02, -1.97265625e-01, -4.46777344e-02,\n",
       "        8.64257812e-02,  4.10156250e-02, -4.37011719e-02,  2.90527344e-02,\n",
       "        1.93359375e-01, -9.32617188e-02, -3.05175781e-03, -3.61328125e-02,\n",
       "       -3.04687500e-01, -6.39648438e-02, -2.33398438e-01, -3.08837891e-02,\n",
       "        5.85937500e-02, -2.43164062e-01,  1.14746094e-01,  1.63085938e-01,\n",
       "       -2.16796875e-01,  1.23535156e-01,  3.63281250e-01,  2.50000000e-01,\n",
       "        1.27929688e-01,  7.56835938e-02, -7.17773438e-02, -8.00781250e-02,\n",
       "       -2.69531250e-01,  1.41601562e-01, -1.42822266e-02, -7.76367188e-02,\n",
       "        1.31835938e-01, -4.91333008e-03, -1.57226562e-01,  1.43554688e-01,\n",
       "        5.05371094e-02,  3.41796875e-01, -1.15722656e-01,  2.78320312e-02,\n",
       "        6.12792969e-02,  1.03515625e-01, -3.65234375e-01,  1.95312500e-01,\n",
       "       -1.60156250e-01, -2.98828125e-01, -2.24609375e-02,  1.54296875e-01,\n",
       "        2.27539062e-01,  7.56835938e-02, -1.04980469e-01, -1.45507812e-01,\n",
       "       -1.67968750e-01, -2.29492188e-01,  2.95410156e-02,  4.24804688e-02,\n",
       "       -1.03759766e-02, -3.69262695e-03,  5.15136719e-02,  1.17187500e-01,\n",
       "       -1.25976562e-01,  1.89453125e-01,  6.93359375e-02,  2.51953125e-01,\n",
       "        2.94921875e-01,  1.40625000e-01, -1.71875000e-01,  4.02832031e-02,\n",
       "        4.95605469e-02, -3.22265625e-01, -2.16064453e-02,  1.22558594e-01,\n",
       "       -3.92578125e-01,  3.43750000e-01,  2.14843750e-01,  3.45703125e-01,\n",
       "       -5.98144531e-02,  1.20117188e-01,  1.08886719e-01,  8.49609375e-02,\n",
       "        1.17675781e-01, -1.14257812e-01,  4.98046875e-01, -3.63769531e-02],\n",
       "      dtype=float32)"
      ]
     },
     "execution_count": 6,
     "metadata": {},
     "output_type": "execute_result"
    }
   ],
   "source": [
    "model[\"sunny\"]\n",
    "\n",
    "\n",
    "#it gives Word2Vec model\n",
    "\n",
    "#we get the vector representation of that word ,the size of this vector is 300 as obtaine din the below cell"
   ]
  },
  {
   "cell_type": "code",
   "execution_count": 7,
   "metadata": {},
   "outputs": [
    {
     "data": {
      "text/plain": [
       "300"
      ]
     },
     "execution_count": 7,
     "metadata": {},
     "output_type": "execute_result"
    }
   ],
   "source": [
    "#after executing the above cell\n",
    "len(model[\"sunny\"])\n",
    "\n",
    "#this gives the size of matrix as 300 ,means size of number and those many numbers are being generated thru NEURAL NETWORK\n",
    "\n",
    "\n",
    "\n"
   ]
  },
  {
   "cell_type": "code",
   "execution_count": null,
   "metadata": {},
   "outputs": [],
   "source": [
    "'''\n",
    "Encoding->based directly on frequency of word,here sparse matrix(0's &1's) was getting created\n",
    "\n",
    "Embedding->Not based on frequency ,but based on Neural Network,here we get DENSE matrix(less no of 0's &1's)\n",
    "'''\n",
    "\n",
    "''' \n",
    "Word2Vec->each word is converted not using frequency based method, but using neural network method, into  a vector\n",
    "Here every word is represented in terms of feature ,,\n",
    "\n",
    "esp wrt google's Word2Vec ,they have trained a Neural Network in which every word gets represented in 300 features(dimensions ) by training it using google news data\n",
    "\n",
    "thos model can be trained and customisable data\n",
    "\n",
    "'''"
   ]
  },
  {
   "cell_type": "code",
   "execution_count": null,
   "metadata": {},
   "outputs": [],
   "source": [
    "''' \n",
    "every neural network starts with perceptron which is a single unit of neuron  into which we pass multiple inputs an d inside this neuron  1)calculation and 2)activation is perfoemed and finally gives output\n",
    "\n",
    "Wx+b  is eqn of Neural network\n",
    "\n",
    "In real time ,we have Multi layered Perception,where we  have multiple layers\n",
    "!)input layer\n",
    "2)hidden layer\n",
    "3)output layer\n",
    "\n",
    "sp embedding is a Outcome of input-> hidden-> output and in btw these layers ,weights ie)vector will be added/come and they are termed as EMBEDDINGs\n",
    "\n",
    "So embedding's are Hidden layer Representation of Neural Network\n",
    "\n",
    "this neural network's weight's have learning ability  according to feature (both forward and backward)\n",
    "and finally what weight i get ,the loss would be minimum and i get the maximum/precise output\n",
    "\n",
    "and weights of output layer are taken into consideration\n",
    "\n",
    "'''"
   ]
  },
  {
   "cell_type": "code",
   "execution_count": 1,
   "metadata": {},
   "outputs": [
    {
     "data": {
      "text/plain": [
       "' \\nSo Text Is Converted into Embeddings Using context window\\n\\n\\nSo each word is assocaited with some feature and a value btw 0 to 1 is assigned telling how similar is the word to the feature ,, and this value is decided by the weights of neural network\\n'"
      ]
     },
     "execution_count": 1,
     "metadata": {},
     "output_type": "execute_result"
    }
   ],
   "source": [
    "\"\"\" \n",
    "So Text Is Converted into Embeddings Using context window\n",
    "\n",
    "\n",
    "So each word is assocaited with some feature and a value btw 0 to 1 is assigned telling how similar is the word to the feature ,, and this value is decided by the weights of neural network\n",
    "\"\"\""
   ]
  },
  {
   "cell_type": "code",
   "execution_count": 8,
   "metadata": {},
   "outputs": [
    {
     "data": {
      "text/plain": [
       "[('woman', 0.7664012908935547),\n",
       " ('boy', 0.6824871301651001),\n",
       " ('teenager', 0.6586930155754089),\n",
       " ('teenage_girl', 0.6147903203964233),\n",
       " ('girl', 0.5921714305877686),\n",
       " ('suspected_purse_snatcher', 0.571636438369751),\n",
       " ('robber', 0.5585119128227234),\n",
       " ('Robbery_suspect', 0.5584409832954407),\n",
       " ('teen_ager', 0.5549196600914001),\n",
       " ('men', 0.5489763021469116)]"
      ]
     },
     "execution_count": 8,
     "metadata": {},
     "output_type": "execute_result"
    }
   ],
   "source": [
    "model.most_similar(\"man\")"
   ]
  },
  {
   "cell_type": "code",
   "execution_count": 9,
   "metadata": {},
   "outputs": [
    {
     "data": {
      "text/plain": [
       "[('cricketing', 0.8372225761413574),\n",
       " ('cricketers', 0.8165745735168457),\n",
       " ('Test_cricket', 0.8094819188117981),\n",
       " ('Twenty##_cricket', 0.8068488240242004),\n",
       " ('Twenty##', 0.7624265551567078),\n",
       " ('Cricket', 0.75413978099823),\n",
       " ('cricketer', 0.7372578382492065),\n",
       " ('twenty##', 0.7316356897354126),\n",
       " ('T##_cricket', 0.7304614186286926),\n",
       " ('West_Indies_cricket', 0.6987985968589783)]"
      ]
     },
     "execution_count": 9,
     "metadata": {},
     "output_type": "execute_result"
    }
   ],
   "source": [
    "model.most_similar(\"cricket\")"
   ]
  },
  {
   "cell_type": "code",
   "execution_count": 10,
   "metadata": {},
   "outputs": [
    {
     "data": {
      "text/plain": [
       "0.2883053"
      ]
     },
     "execution_count": 10,
     "metadata": {},
     "output_type": "execute_result"
    }
   ],
   "source": [
    "model.similarity(\"man\",\"women\") #how similar is man with women"
   ]
  },
  {
   "cell_type": "code",
   "execution_count": 11,
   "metadata": {},
   "outputs": [
    {
     "data": {
      "text/plain": [
       "0.76094574"
      ]
     },
     "execution_count": 11,
     "metadata": {},
     "output_type": "execute_result"
    }
   ],
   "source": [
    "model.similarity(\"cat\",\"dog\")#how similar is cat to dog"
   ]
  },
  {
   "cell_type": "code",
   "execution_count": null,
   "metadata": {},
   "outputs": [
    {
     "data": {
      "text/plain": [
       "'man'"
      ]
     },
     "execution_count": 13,
     "metadata": {},
     "output_type": "execute_result"
    }
   ],
   "source": [
    "model.doesnt_match([\"dog\",\"tiger\",\"lion\",\"man\"])  #which among the following doesnt match"
   ]
  },
  {
   "cell_type": "code",
   "execution_count": 15,
   "metadata": {},
   "outputs": [
    {
     "data": {
      "text/plain": [
       "array([ 4.29687500e-02, -1.78222656e-01, -1.29089355e-01,  1.15234375e-01,\n",
       "        2.68554688e-03, -1.02294922e-01,  1.95800781e-01, -1.79504395e-01,\n",
       "        1.95312500e-02,  4.09919739e-01, -3.68164062e-01, -3.96484375e-01,\n",
       "       -1.56738281e-01,  1.46484375e-03, -9.30175781e-02, -1.16455078e-01,\n",
       "       -5.51757812e-02, -1.07574463e-01,  7.91015625e-02,  1.98974609e-01,\n",
       "        2.38525391e-01,  6.34002686e-02, -2.17285156e-02,  0.00000000e+00,\n",
       "        4.72412109e-02, -2.17773438e-01, -3.44726562e-01,  6.37207031e-02,\n",
       "        3.16406250e-01, -1.97631836e-01,  8.59375000e-02, -8.11767578e-02,\n",
       "       -3.71093750e-02,  3.15551758e-01, -3.41796875e-01, -4.68750000e-02,\n",
       "        9.76562500e-02,  8.39843750e-02, -9.71679688e-02,  5.17578125e-02,\n",
       "       -5.00488281e-02, -2.20947266e-01,  2.29492188e-01,  1.26403809e-01,\n",
       "        2.49023438e-01,  2.09960938e-02, -1.09863281e-01,  5.81054688e-02,\n",
       "       -3.35693359e-02,  1.29577637e-01,  2.41699219e-02,  3.48129272e-02,\n",
       "       -2.60009766e-01,  2.42309570e-01, -3.21777344e-01,  1.45416260e-02,\n",
       "       -1.59179688e-01, -8.37402344e-02,  1.65039062e-01,  1.58691406e-03,\n",
       "        3.09570312e-01,  3.16406250e-01,  7.38525391e-03,  2.41210938e-01,\n",
       "        4.90722656e-02, -9.86328125e-02,  2.90527344e-02,  1.49414062e-01,\n",
       "       -4.83398438e-02,  2.35595703e-01,  2.21191406e-01,  1.25488281e-01,\n",
       "       -1.38671875e-01,  1.54296875e-01,  7.18994141e-02,  1.29882812e-01,\n",
       "       -1.05712891e-01,  6.00585938e-02,  3.14697266e-01,  1.09619141e-01,\n",
       "        8.49609375e-02,  7.71484375e-02, -2.17285156e-02,  6.11572266e-02,\n",
       "       -1.89941406e-01,  2.07519531e-01, -1.63085938e-01,  1.13525391e-01,\n",
       "        2.01171875e-01,  6.06689453e-02,  1.27929688e-01, -3.11279297e-01,\n",
       "       -2.80151367e-01, -1.55883789e-01,  4.15039062e-02,  9.87854004e-02,\n",
       "        1.69555664e-01, -3.49121094e-02,  2.08496094e-01, -9.89990234e-02,\n",
       "        4.39453125e-03, -7.27539062e-02, -4.24804688e-02, -4.09179688e-01,\n",
       "       -2.76367188e-01,  1.64062500e-01, -5.57617188e-01, -2.02199936e-01,\n",
       "        2.12158203e-01, -9.81445312e-02,  2.30773926e-01,  2.75878906e-01,\n",
       "        1.68092728e-01, -4.50439453e-02,  1.71615601e-01, -3.77075195e-01,\n",
       "       -3.52478027e-03, -3.01513672e-01,  1.74224854e-01,  3.30078125e-01,\n",
       "        2.00683594e-01,  1.17736816e-01, -1.37695312e-01, -1.07421875e-01,\n",
       "        8.61816406e-02,  1.06445312e-01,  1.44531250e-01,  3.05175781e-03,\n",
       "        1.80664062e-02,  3.73535156e-02,  7.32421875e-03,  1.32812500e-01,\n",
       "        9.61914062e-02,  3.35998535e-01,  1.81152344e-01,  2.40905762e-01,\n",
       "       -8.49609375e-02, -1.10107422e-01,  2.11914062e-01,  5.85937500e-03,\n",
       "        1.62109375e-01, -4.15527344e-01,  1.39160156e-01,  1.01562500e-01,\n",
       "        1.44531250e-01, -1.09375000e-01,  4.88281250e-02,  6.15234375e-02,\n",
       "       -1.69921875e-01,  3.28369141e-02,  5.56640625e-02,  1.47460938e-01,\n",
       "       -2.24609375e-02, -2.73925781e-01, -2.81982422e-01, -1.39160156e-01,\n",
       "       -1.81884766e-01,  9.33532715e-02,  1.21093750e-01, -5.37109375e-03,\n",
       "       -1.87500000e-01,  3.05175781e-04,  5.52734375e-01, -9.71679688e-02,\n",
       "       -1.81640625e-01, -1.51855469e-01,  7.76367188e-02, -2.38281250e-01,\n",
       "       -2.63977051e-02,  2.25555420e-01, -3.02734375e-01,  1.34765625e-01,\n",
       "        3.23242188e-01,  1.25976562e-01,  3.51562500e-02, -2.04345703e-01,\n",
       "        2.96142578e-01,  1.03149414e-01, -4.76074219e-03,  1.69189453e-01,\n",
       "       -3.50585938e-01,  2.46887207e-02, -3.90502930e-01, -2.70507812e-01,\n",
       "        1.85241699e-02,  1.04492188e-01,  2.84179688e-01,  1.35009766e-01,\n",
       "       -5.95703125e-02,  1.88232422e-01,  8.88214111e-02,  3.24707031e-02,\n",
       "       -8.98437500e-02,  5.45043945e-02,  5.65185547e-02,  1.56860352e-01,\n",
       "       -9.70458984e-03, -7.08007812e-02,  5.71289062e-02, -3.08837891e-01,\n",
       "       -1.91894531e-01,  4.83398438e-02,  5.22460938e-02, -1.59667969e-01,\n",
       "       -4.49218750e-02, -7.37304688e-02,  5.51757812e-02,  2.12402344e-01,\n",
       "        2.05322266e-01, -2.73437500e-02,  7.86132812e-02,  3.19091797e-01,\n",
       "       -1.56982422e-01, -3.92822266e-01,  4.00390625e-02,  9.93652344e-02,\n",
       "       -1.97372437e-02, -8.25195312e-02,  2.53906250e-02,  3.10668945e-02,\n",
       "       -3.63769531e-02,  1.48925781e-02,  2.20703125e-01, -5.98144531e-02,\n",
       "        6.15234375e-02, -7.14111328e-02, -4.00390625e-02, -1.03515625e-01,\n",
       "        9.22851562e-02,  2.71789551e-01, -2.30224609e-01, -2.62695312e-01,\n",
       "       -5.61523438e-01,  1.38549805e-02,  1.09863281e-01,  7.22656250e-02,\n",
       "        4.58984375e-02, -3.31802368e-02, -8.03833008e-02, -6.10351562e-03,\n",
       "        2.09960938e-01, -3.86840820e-01,  1.44645691e-01,  8.05664062e-02,\n",
       "        2.96264648e-01, -1.17187500e-02, -2.34680176e-01,  1.32019043e-01,\n",
       "        2.53906250e-01, -2.46826172e-01,  1.03759766e-01,  1.14013672e-01,\n",
       "        1.71875000e-01, -5.61523438e-03,  2.05078125e-01,  6.34765625e-02,\n",
       "       -4.51293945e-01, -2.26562500e-01, -1.03027344e-01, -1.31469727e-01,\n",
       "        3.75976562e-02,  2.70996094e-01, -2.39257812e-01,  3.80859375e-02,\n",
       "       -3.90625000e-02, -9.42382812e-02,  8.30078125e-03,  7.03125000e-02,\n",
       "        2.75390625e-01,  3.31542969e-01, -1.07421875e-02,  3.72192383e-01,\n",
       "       -1.24511719e-01,  1.94335938e-01, -1.35620117e-01, -3.09570312e-01,\n",
       "       -2.36328125e-01, -1.26953125e-02, -2.76855469e-01,  1.57714844e-01,\n",
       "        3.07617188e-01, -2.32910156e-01,  3.25439453e-01,  1.36718750e-02,\n",
       "        1.99462891e-01, -2.61840820e-02, -8.08105469e-02, -7.50732422e-02,\n",
       "       -4.11109924e-02,  1.95556641e-01, -5.64270020e-02, -2.79296875e-01,\n",
       "       -2.75390625e-01, -4.04296875e-01, -1.75781250e-02, -5.85937500e-03,\n",
       "       -7.71484375e-02,  1.33789062e-01,  2.36816406e-01,  2.01538086e-01],\n",
       "      dtype=float32)"
      ]
     },
     "execution_count": 15,
     "metadata": {},
     "output_type": "execute_result"
    }
   ],
   "source": [
    "vec=model[\"king\"]-model[\"man\"]+model[\"woman\"]  #this shud give a queen as a vector\n",
    "vec"
   ]
  },
  {
   "cell_type": "code",
   "execution_count": null,
   "metadata": {},
   "outputs": [],
   "source": [
    "#model.most_similar([vec])   this is executable line of code\n",
    "#all similar things to queen is given"
   ]
  },
  {
   "cell_type": "code",
   "execution_count": null,
   "metadata": {},
   "outputs": [],
   "source": [
    "#CUSTOM TRAINING FOR Word2Vec  (Static WordEmbedding)"
   ]
  },
  {
   "cell_type": "code",
   "execution_count": 6,
   "metadata": {},
   "outputs": [],
   "source": [
    "import pandas as pd\n",
    "import numpy as np\n",
    "import os\n",
    "import gensim\n",
    "import nltk\n",
    "from nltk import sent_tokenize\n",
    "from gensim.utils import simple_preprocess"
   ]
  },
  {
   "cell_type": "code",
   "execution_count": null,
   "metadata": {},
   "outputs": [],
   "source": [
    "story=[]"
   ]
  }
 ],
 "metadata": {
  "kernelspec": {
   "display_name": "Python 3",
   "language": "python",
   "name": "python3"
  },
  "language_info": {
   "codemirror_mode": {
    "name": "ipython",
    "version": 3
   },
   "file_extension": ".py",
   "mimetype": "text/x-python",
   "name": "python",
   "nbconvert_exporter": "python",
   "pygments_lexer": "ipython3",
   "version": "3.12.7"
  }
 },
 "nbformat": 4,
 "nbformat_minor": 2
}
